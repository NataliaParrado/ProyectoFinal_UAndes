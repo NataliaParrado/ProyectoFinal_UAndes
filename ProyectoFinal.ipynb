{
 "cells": [
  {
   "cell_type": "markdown",
   "id": "761493eb-ca24-4b48-a165-e2930c794fb6",
   "metadata": {},
   "source": [
    "# 1. Introducción"
   ]
  },
{
 "cells": [
  {
   "cell_type": "markdown",
   "id": "761493eb-ca24-4b48-a165-e2930c794fb6",
   "metadata": {},
   "source": [
    "# 2. Carga Librerias"
   ]
  },
  {
   "cell_type": "code",
   "execution_count": 3,
   "id": "ae8082db-4657-451f-8eb3-46317469ef18",
   "metadata": {},
   "outputs": [],
   "source": [
    "import pandas as pd\n",
    "import numpy as np\n",
    "import matplotlib.pyplot as plt\n",
    "import seaborn as sns\n",
    "from datetime import datetime\n",
    "from statsmodels.tsa.stattools import acf\n",
    "from scipy.signal import find_peaks\n",
    "from statsmodels.tsa.stattools import adfuller\n",
    "from pmdarima import auto_arima\n",
    "import joblib\n",
    "sns.set_theme(style=\"whitegrid\")"
   ]
  },
  {
   "cell_type": "markdown",
   "id": "47c38e51-fc7a-4f92-a42e-646a19adb21f",
   "metadata": {},
   "source": [
    "# Funciones"
   ]
  },
  {
   "cell_type": "code",
   "execution_count": 5,
   "id": "a7f49150-01da-45bf-a4a8-4fcb5a6fab88",
   "metadata": {},
   "outputs": [],
   "source": [
    "from prophet import Prophet\n",
    "import pandas as pd\n",
    "\n",
    "\n",
    "def filtrar_periodos(periodos, tolerancia=0.1):\n",
    "    periodos = sorted(periodos)\n",
    "    periodos_filtrados = []\n",
    "\n",
    "    for p in periodos:\n",
    "        es_multiplo = False\n",
    "        for base in periodos_filtrados:\n",
    "            if abs(p % base) < base * tolerancia:\n",
    "                es_multiplo = True\n",
    "                break\n",
    "        if not es_multiplo:\n",
    "            periodos_filtrados.append(p)\n",
    "    \n",
    "    return periodos_filtrados\n",
    "\n",
    "\n",
    "def entrenar_prophet(serie, periodos_detectados, intervalo_confianza=0.95):\n",
    "    # Convertir serie a DataFrame para Prophet\n",
    "    df = serie.dropna().reset_index()\n",
    "    df.columns = ['ds', 'y']\n",
    "\n",
    "    # Filtrar periodos relevantes\n",
    "    periodos_clave = filtrar_periodos(periodos_detectados)\n",
    "\n",
    "    # Inicializar Prophet\n",
    "    modelo = Prophet(interval_width=intervalo_confianza)\n",
    "\n",
    "    for p in periodos_clave:\n",
    "        nombre = f'estacionalidad_{p}h'\n",
    "        fourier = 5 if p <= 168 else 10 if p <= 1000 else 15\n",
    "        modelo.add_seasonality(name=nombre, period=p, fourier_order=fourier)\n",
    "\n",
    "    # Entrenar\n",
    "    modelo.fit(df)\n",
    "\n",
    "    # Predicciones en el rango original\n",
    "    forecast = modelo.predict(df[['ds']])\n",
    "    predicciones = forecast['yhat']\n",
    "    residuos = df['y'] - predicciones\n",
    "\n",
    "    predicciones.index = df['ds']\n",
    "    residuos.index = df['ds']\n",
    "\n",
    "    return modelo, predicciones, residuos\n",
    "\n",
    "def detectar_estacionalidad_horaria(serie, max_lag=10000, umbral_corr=0.3, min_distancia=24):\n",
    "    serie = serie.dropna()\n",
    "    autocorr = acf(serie, nlags=max_lag, fft=True)\n",
    "    \n",
    "    # Encontrar picos significativos en la autocorrelación\n",
    "    picos, _ = find_peaks(autocorr, height=umbral_corr, distance=min_distancia)\n",
    "    periodos = picos.tolist()\n",
    "\n",
    "    resultado = {\n",
    "        'es_estacional': len(periodos) > 0,\n",
    "        'periodos_detectados': periodos,\n",
    "        'acf': autocorr\n",
    "    }\n",
    "\n",
    "    return resultado\n",
    "\n",
    "def es_estacionaria(serie, nivel_significancia=0.05, verbose=True):\n",
    "    resultado = adfuller(serie.dropna(), autolag='AIC')\n",
    "    p_valor = resultado[1]\n",
    "    return {p_valor < nivel_significancia,resultado[0],p_valor}\n",
    "\n",
    "def ajustar_arima(serie, max_p=5, max_q=5, max_d=5, umbral_std=3, verbose=False):\n",
    "    serie_limpia = serie.dropna()\n",
    "\n",
    "    modelo = auto_arima(\n",
    "        serie_limpia,\n",
    "        seasonal=False,\n",
    "        max_p=max_p,\n",
    "        max_q=max_q,\n",
    "        max_d=max_d,\n",
    "        stepwise=True,\n",
    "        suppress_warnings=True,\n",
    "        error_action='ignore',\n",
    "        trace=verbose\n",
    "    )\n",
    "\n",
    "    predicciones = modelo.predict_in_sample()\n",
    "    pred_series = pd.Series(predicciones, index=serie_limpia.index)\n",
    "    residuos = serie_limpia - pred_series\n",
    "\n",
    "    if verbose:\n",
    "        std_resid = residuos.std()\n",
    "        umbral = umbral_std * std_resid\n",
    "        n_anomalias = (abs(residuos) > umbral).sum()\n",
    "        print(f\"Modelo ARIMA ajustado: order={modelo.order}\")\n",
    "        print(f\"Residuos desviación estándar: {std_resid:.4f}\")\n",
    "        print(f\"Anomalías (>{umbral_std}σ): {n_anomalias}\")\n",
    "\n",
    "    return modelo, pred_series, residuos"
   ]
  },
  {
   "cell_type": "markdown",
   "id": "94bb7f6b-3f97-4a96-916a-1b7c49ba3597",
   "metadata": {},
   "source": [
    "# Lee archivo"
   ]
  },
  {
   "cell_type": "code",
   "execution_count": 7,
   "id": "3c44f675-c0ce-4e0b-8508-557b6f8ec77b",
   "metadata": {},
   "outputs": [],
   "source": [
    "hojas = pd.read_excel(f\"datos_contugas.xlsx\",sheet_name=None)\n",
    "datos_completos = pd.concat([df.assign(Cliente=nombre) for nombre, df in hojas.items()])"
   ]
  },
  {
   "cell_type": "code",
   "execution_count": 8,
   "id": "6a63999d-5d0a-49eb-98fc-c488b74ab6d2",
   "metadata": {},
   "outputs": [
    {
     "data": {
      "text/html": [
       "<div>\n",
       "<style scoped>\n",
       "    .dataframe tbody tr th:only-of-type {\n",
       "        vertical-align: middle;\n",
       "    }\n",
       "\n",
       "    .dataframe tbody tr th {\n",
       "        vertical-align: top;\n",
       "    }\n",
       "\n",
       "    .dataframe thead th {\n",
       "        text-align: right;\n",
       "    }\n",
       "</style>\n",
       "<table border=\"1\" class=\"dataframe\">\n",
       "  <thead>\n",
       "    <tr style=\"text-align: right;\">\n",
       "      <th></th>\n",
       "      <th>Fecha</th>\n",
       "      <th>Cliente</th>\n",
       "      <th>Presion</th>\n",
       "      <th>Temperatura</th>\n",
       "      <th>Volumen</th>\n",
       "    </tr>\n",
       "  </thead>\n",
       "  <tbody>\n",
       "    <tr>\n",
       "      <th>0</th>\n",
       "      <td>2019-01-14</td>\n",
       "      <td>CLIENTE 1</td>\n",
       "      <td>17.732563</td>\n",
       "      <td>28.209354</td>\n",
       "      <td>20.969751</td>\n",
       "    </tr>\n",
       "    <tr>\n",
       "      <th>1</th>\n",
       "      <td>2019-01-14</td>\n",
       "      <td>CLIENTE 10</td>\n",
       "      <td>17.534622</td>\n",
       "      <td>25.958163</td>\n",
       "      <td>0.000000</td>\n",
       "    </tr>\n",
       "    <tr>\n",
       "      <th>2</th>\n",
       "      <td>2019-01-14</td>\n",
       "      <td>CLIENTE 11</td>\n",
       "      <td>3.625672</td>\n",
       "      <td>27.554214</td>\n",
       "      <td>88.443881</td>\n",
       "    </tr>\n",
       "    <tr>\n",
       "      <th>3</th>\n",
       "      <td>2019-01-14</td>\n",
       "      <td>CLIENTE 12</td>\n",
       "      <td>17.286238</td>\n",
       "      <td>32.363057</td>\n",
       "      <td>110.898742</td>\n",
       "    </tr>\n",
       "    <tr>\n",
       "      <th>4</th>\n",
       "      <td>2019-01-14</td>\n",
       "      <td>CLIENTE 13</td>\n",
       "      <td>17.528430</td>\n",
       "      <td>25.212319</td>\n",
       "      <td>0.000000</td>\n",
       "    </tr>\n",
       "  </tbody>\n",
       "</table>\n",
       "</div>"
      ],
      "text/plain": [
       "       Fecha     Cliente    Presion  Temperatura     Volumen\n",
       "0 2019-01-14   CLIENTE 1  17.732563    28.209354   20.969751\n",
       "1 2019-01-14  CLIENTE 10  17.534622    25.958163    0.000000\n",
       "2 2019-01-14  CLIENTE 11   3.625672    27.554214   88.443881\n",
       "3 2019-01-14  CLIENTE 12  17.286238    32.363057  110.898742\n",
       "4 2019-01-14  CLIENTE 13  17.528430    25.212319    0.000000"
      ]
     },
     "execution_count": 8,
     "metadata": {},
     "output_type": "execute_result"
    }
   ],
   "source": [
    "df_completo = datos_completos.groupby([\"Fecha\",'Cliente'])[[\"Presion\",'Temperatura','Volumen']].mean()\n",
    "df_completo.reset_index(inplace=True)\n",
    "df_completo.head()"
   ]
  },
  {
   "cell_type": "markdown",
   "id": "44fb5e8c-b48b-4cfd-ad8a-771bfbb3c696",
   "metadata": {},
   "source": [
    "# Validacion de estacionalidad y estacionariedad"
   ]
  },
  {
   "cell_type": "code",
   "execution_count": 10,
   "id": "cd0684dc-9bd7-4ade-b7ee-d3fc94605484",
   "metadata": {},
   "outputs": [],
   "source": [
    "# 1. Se crean las variables y las series temporales\n",
    "pruebaPres_Estacional = {}\n",
    "pruebaTemp_Estacional = {}\n",
    "pruebaVol_Estacional = {}\n",
    "pruebaPres_Estacionaria = {}\n",
    "pruebaTemp_Estacionaria = {}\n",
    "pruebaVol_Estacionaria = {}\n",
    "dfPres = datos_completos[['Cliente','Fecha','Presion']]\n",
    "dfTemp = datos_completos[['Cliente','Fecha','Temperatura']]\n",
    "dfvol = datos_completos[['Cliente','Fecha','Volumen']]"
   ]
  },
  {
   "cell_type": "code",
   "execution_count": 11,
   "id": "d5747c41-7d3c-4aff-be86-a7dc4fec9bbf",
   "metadata": {},
   "outputs": [],
   "source": [
    "# 2. Prueba de estacionalidad para la Presion\n",
    "for cliente_id, grupo in dfPres.groupby(\"Cliente\"):\n",
    "    serie = grupo.groupby(\"Fecha\")[\"Presion\"].mean()\n",
    "    serie.sort_index(inplace=True)\n",
    "    serie_F = serie.asfreq(\"H\").dropna()\n",
    "    resultado = detectar_estacionalidad_horaria(serie_F)\n",
    "    if resultado['es_estacional']:\n",
    "        pruebaPres_Estacional[cliente_id] = detectar_estacionalidad_horaria(serie_F)\n",
    "for cliente_id, grupo in dfTemp.groupby(\"Cliente\"):\n",
    "    serie = grupo.groupby(\"Fecha\")[\"Temperatura\"].mean()\n",
    "    serie.sort_index(inplace=True)\n",
    "    serie_F = serie.asfreq(\"H\").dropna()\n",
    "    resultado = detectar_estacionalidad_horaria(serie_F)\n",
    "    if resultado['es_estacional']:\n",
    "        pruebaTemp_Estacional[cliente_id] = detectar_estacionalidad_horaria(serie_F)\n",
    "for cliente_id, grupo in dfvol.groupby(\"Cliente\"):\n",
    "    serie = grupo.groupby(\"Fecha\")[\"Volumen\"].mean()\n",
    "    serie.sort_index(inplace=True)\n",
    "    serie_F = serie.asfreq(\"H\").dropna()\n",
    "    resultado = detectar_estacionalidad_horaria(serie_F)\n",
    "    if resultado['es_estacional']:\n",
    "        pruebaVol_Estacional[cliente_id] = detectar_estacionalidad_horaria(serie_F)"
   ]
  },
  {
   "cell_type": "code",
   "execution_count": 12,
   "id": "07460571-7d63-4ae6-ae23-246d1b156d78",
   "metadata": {},
   "outputs": [],
   "source": [
    "# 3. Valida si es estacionaria\n",
    "for cliente_id, grupo in dfPres.groupby(\"Cliente\"):\n",
    "    serie = grupo.groupby(\"Fecha\")[\"Presion\"].mean()\n",
    "    serie.sort_index(inplace=True)\n",
    "    serie_F = serie.asfreq(\"H\").dropna()\n",
    "    resultado = es_estacionaria(serie_F, nivel_significancia=0.05)\n",
    "    if resultado:\n",
    "        pruebaPres_Estacionaria[cliente_id] = 'Estacionaria'\n",
    "for cliente_id, grupo in dfTemp.groupby(\"Cliente\"):\n",
    "    serie = grupo.groupby(\"Fecha\")[\"Temperatura\"].mean()\n",
    "    serie.sort_index(inplace=True)\n",
    "    serie_F = serie.asfreq(\"H\").dropna()\n",
    "    resultado = es_estacionaria(serie_F, nivel_significancia=0.05)\n",
    "    if resultado:\n",
    "        pruebaTemp_Estacionaria[cliente_id] = 'Estacionaria'\n",
    "for cliente_id, grupo in dfvol.groupby(\"Cliente\"):\n",
    "    serie = grupo.groupby(\"Fecha\")[\"Volumen\"].mean()\n",
    "    serie.sort_index(inplace=True)\n",
    "    serie_F = serie.asfreq(\"H\").dropna()\n",
    "    resultado = es_estacionaria(serie_F, nivel_significancia=0.05)\n",
    "    if resultado:\n",
    "        pruebaVol_Estacionaria[cliente_id] = 'Estacionaria'"
   ]
  },
  {
   "cell_type": "code",
   "execution_count": 13,
   "id": "b0f7946c-5b04-4212-957c-16954acb6cd0",
   "metadata": {},
   "outputs": [],
   "source": [
    "# Crear índice único por cliente\n",
    "index = list(dfPres['Cliente'].unique())\n",
    "dfVal = pd.DataFrame(index=index)\n",
    "\n",
    "# --- PRESIÓN ---\n",
    "# Primero, marcar como 'Estacional' si está en el dict estacional\n",
    "dfVal['Presion'] = dfVal.index.isin(pruebaPres_Estacional.keys())\n",
    "dfVal['Presion'] = dfVal['Presion'].map({True: 'Estacional', False: None})\n",
    "\n",
    "# Luego, si aún está vacío, verificar si es 'Estacionaria'\n",
    "filtro_presion_nulos = dfVal['Presion'].isna()\n",
    "clientes_nulos = dfVal.index[filtro_presion_nulos]\n",
    "clientes_estacionarios = [c for c in clientes_nulos if c in pruebaPres_Estacionaria]\n",
    "dfVal.loc[clientes_estacionarios, 'Presion'] = 'Estacionaria'\n",
    "\n",
    "# --- TEMPERATURA ---\n",
    "dfVal['Temperatura'] = dfVal.index.isin(pruebaTemp_Estacional.keys())\n",
    "dfVal['Temperatura'] = dfVal['Temperatura'].map({True: 'Estacional', False: None})\n",
    "# (No se evalúa estacionaria en tu código original, ¿lo necesitas?)\n",
    "\n",
    "# --- VOLUMEN ---\n",
    "dfVal['Volumen'] = dfVal.index.isin(pruebaVol_Estacional.keys())\n",
    "dfVal['Volumen'] = dfVal['Volumen'].map({True: 'Estacional', False: None})\n",
    "\n",
    "filtro_vol_nulos = dfVal['Volumen'].isna()\n",
    "clientes_vol_nulos = dfVal.index[filtro_vol_nulos]\n",
    "clientes_vol_estacionarios = [c for c in clientes_vol_nulos if c in pruebaVol_Estacionaria]\n",
    "dfVal.loc[clientes_vol_estacionarios, 'Volumen'] = 'Estacionaria'"
   ]
  },
  {
   "cell_type": "markdown",
   "id": "88998795-9478-489a-a177-fa642561220a",
   "metadata": {},
   "source": [
    "# Generacion de Modelos y Deteccion de Anomalias"
   ]
  },
  {
   "cell_type": "code",
   "execution_count": 15,
   "id": "70ce7654-473f-4a44-8ad8-c46be2e7ec8c",
   "metadata": {},
   "outputs": [
    {
     "data": {
      "text/html": [
       "<div>\n",
       "<style scoped>\n",
       "    .dataframe tbody tr th:only-of-type {\n",
       "        vertical-align: middle;\n",
       "    }\n",
       "\n",
       "    .dataframe tbody tr th {\n",
       "        vertical-align: top;\n",
       "    }\n",
       "\n",
       "    .dataframe thead th {\n",
       "        text-align: right;\n",
       "    }\n",
       "</style>\n",
       "<table border=\"1\" class=\"dataframe\">\n",
       "  <thead>\n",
       "    <tr style=\"text-align: right;\">\n",
       "      <th></th>\n",
       "      <th>Cliente</th>\n",
       "      <th>Presion</th>\n",
       "      <th>Temperatura</th>\n",
       "      <th>Volumen</th>\n",
       "      <th>AnomaliaPresion</th>\n",
       "      <th>AnomaliaTemperatura</th>\n",
       "      <th>AnomaliaVolumen</th>\n",
       "    </tr>\n",
       "    <tr>\n",
       "      <th>Fecha</th>\n",
       "      <th></th>\n",
       "      <th></th>\n",
       "      <th></th>\n",
       "      <th></th>\n",
       "      <th></th>\n",
       "      <th></th>\n",
       "      <th></th>\n",
       "    </tr>\n",
       "  </thead>\n",
       "  <tbody>\n",
       "    <tr>\n",
       "      <th>2019-01-14</th>\n",
       "      <td>CLIENTE 1</td>\n",
       "      <td>17.732563</td>\n",
       "      <td>28.209354</td>\n",
       "      <td>20.969751</td>\n",
       "      <td>False</td>\n",
       "      <td>False</td>\n",
       "      <td>False</td>\n",
       "    </tr>\n",
       "    <tr>\n",
       "      <th>2019-01-14</th>\n",
       "      <td>CLIENTE 10</td>\n",
       "      <td>17.534622</td>\n",
       "      <td>25.958163</td>\n",
       "      <td>0.000000</td>\n",
       "      <td>False</td>\n",
       "      <td>False</td>\n",
       "      <td>False</td>\n",
       "    </tr>\n",
       "    <tr>\n",
       "      <th>2019-01-14</th>\n",
       "      <td>CLIENTE 11</td>\n",
       "      <td>3.625672</td>\n",
       "      <td>27.554214</td>\n",
       "      <td>88.443881</td>\n",
       "      <td>False</td>\n",
       "      <td>False</td>\n",
       "      <td>False</td>\n",
       "    </tr>\n",
       "    <tr>\n",
       "      <th>2019-01-14</th>\n",
       "      <td>CLIENTE 12</td>\n",
       "      <td>17.286238</td>\n",
       "      <td>32.363057</td>\n",
       "      <td>110.898742</td>\n",
       "      <td>False</td>\n",
       "      <td>False</td>\n",
       "      <td>False</td>\n",
       "    </tr>\n",
       "    <tr>\n",
       "      <th>2019-01-14</th>\n",
       "      <td>CLIENTE 13</td>\n",
       "      <td>17.528430</td>\n",
       "      <td>25.212319</td>\n",
       "      <td>0.000000</td>\n",
       "      <td>False</td>\n",
       "      <td>False</td>\n",
       "      <td>False</td>\n",
       "    </tr>\n",
       "  </tbody>\n",
       "</table>\n",
       "</div>"
      ],
      "text/plain": [
       "               Cliente    Presion  Temperatura     Volumen  AnomaliaPresion  \\\n",
       "Fecha                                                                         \n",
       "2019-01-14   CLIENTE 1  17.732563    28.209354   20.969751            False   \n",
       "2019-01-14  CLIENTE 10  17.534622    25.958163    0.000000            False   \n",
       "2019-01-14  CLIENTE 11   3.625672    27.554214   88.443881            False   \n",
       "2019-01-14  CLIENTE 12  17.286238    32.363057  110.898742            False   \n",
       "2019-01-14  CLIENTE 13  17.528430    25.212319    0.000000            False   \n",
       "\n",
       "            AnomaliaTemperatura  AnomaliaVolumen  \n",
       "Fecha                                             \n",
       "2019-01-14                False            False  \n",
       "2019-01-14                False            False  \n",
       "2019-01-14                False            False  \n",
       "2019-01-14                False            False  \n",
       "2019-01-14                False            False  "
      ]
     },
     "execution_count": 15,
     "metadata": {},
     "output_type": "execute_result"
    }
   ],
   "source": [
    "df_completo['AnomaliaPresion'] = False\n",
    "df_completo['AnomaliaTemperatura'] = False\n",
    "df_completo['AnomaliaVolumen'] = False\n",
    "df_completo.set_index('Fecha', inplace=True)\n",
    "df_completo.head()"
   ]
  },
  {
   "cell_type": "code",
   "execution_count": 16,
   "id": "231d26e9-8eeb-40a4-9527-b2b560c5ca42",
   "metadata": {},
   "outputs": [],
   "source": [
    "SARIMA_dataSet = {}\n",
    "PROPHET_dataSet = {}\n",
    "for cols in dfVal.columns:\n",
    "    SARIMA_dataSet[cols]=list(dfVal[dfVal[cols]=='Estacionaria'][cols].index)\n",
    "    PROPHET_dataSet[cols]=list(dfVal[dfVal[cols]=='Estacional'][cols].index)"
   ]
  },
  {
   "cell_type": "markdown",
   "id": "434b42d1-f259-4e37-9b5c-315f5114e4c8",
   "metadata": {},
   "source": [
    "## Genera modelo SARIMA"
   ]
  },
  {
   "cell_type": "code",
   "execution_count": 18,
   "id": "3f2e20b9-6625-4e44-86bb-693db961ad6f",
   "metadata": {},
   "outputs": [
    {
     "name": "stdout",
     "output_type": "stream",
     "text": [
      "Finalizado el modelo Presion_CLIENTE_15...\n",
      "Presion_CLIENTE_15\n",
      "Finalizado el modelo Volumen_CLIENTE_2...\n",
      "Volumen_CLIENTE_2\n",
      "Finalizado el modelo Volumen_CLIENTE_4...\n",
      "Volumen_CLIENTE_4\n",
      "Finalizado el modelo Volumen_CLIENTE_9...\n",
      "Volumen_CLIENTE_9\n",
      "Finalizado el modelo Volumen_CLIENTE_10...\n",
      "Volumen_CLIENTE_10\n",
      "Finalizado el modelo Volumen_CLIENTE_13...\n",
      "Volumen_CLIENTE_13\n",
      "Finalizado el modelo Volumen_CLIENTE_15...\n",
      "Volumen_CLIENTE_15\n",
      "Finalizado el modelo Volumen_CLIENTE_18...\n",
      "Volumen_CLIENTE_18\n",
      "Finalizado el modelo Volumen_CLIENTE_19...\n",
      "Volumen_CLIENTE_19\n"
     ]
    }
   ],
   "source": [
    "for metrica,clientes in SARIMA_dataSet.items():\n",
    "    for cliente in clientes:\n",
    "        serie = df_completo[df_completo['Cliente']==cliente][metrica]\n",
    "        modelo, pred, residuos = ajustar_arima(serie)\n",
    "        umbral = 2.5 * np.std(residuos)\n",
    "        anomalias = np.abs(residuos) > umbral\n",
    "        nombreModelo = metrica+'_'+cliente.replace(' ','_')\n",
    "        joblib.dump(modelo, nombreModelo+'.pkl')\n",
    "        print(f'Finalizado el modelo {nombreModelo}...')\n",
    "        if metrica == 'Presion':\n",
    "            mascara = df_completo['Cliente'] == cliente\n",
    "            idx_a_actualizar = df_completo[mascara].index.intersection(anomalias.index)\n",
    "            df_completo.loc[(df_completo['Cliente'] == cliente) & (df_completo.index.isin(idx_a_actualizar)), 'AnomaliaPresion'] = anomalias.loc[idx_a_actualizar]\n",
    "        elif metrica == 'Temperatura':\n",
    "            mascara = df_completo['Cliente'] == cliente\n",
    "            idx_a_actualizar = df_completo[mascara].index.intersection(anomalias.index)\n",
    "            df_completo.loc[(df_completo['Cliente'] == cliente) & (df_completo.index.isin(idx_a_actualizar)), 'AnomaliaTemperatura'] = anomalias.loc[idx_a_actualizar]\n",
    "        else:\n",
    "            mascara = df_completo['Cliente'] == cliente\n",
    "            idx_a_actualizar = df_completo[mascara].index.intersection(anomalias.index)\n",
    "            df_completo.loc[(df_completo['Cliente'] == cliente) & (df_completo.index.isin(idx_a_actualizar)), 'AnomaliaVolumen'] = anomalias.loc[idx_a_actualizar]\n",
    "        print(nombreModelo)"
   ]
  },
  {
   "cell_type": "markdown",
   "id": "07a0aad8-dca6-40cd-936b-f8874c954003",
   "metadata": {},
   "source": [
    "## Genera modelo PROPHET"
   ]
  },
  {
   "cell_type": "code",
   "execution_count": 20,
   "id": "960aee7b-c519-46a2-aac7-91c19f4cdbd8",
   "metadata": {},
   "outputs": [
    {
     "name": "stderr",
     "output_type": "stream",
     "text": [
      "23:28:34 - cmdstanpy - INFO - Chain [1] start processing\n",
      "23:29:33 - cmdstanpy - INFO - Chain [1] done processing\n"
     ]
    },
    {
     "name": "stdout",
     "output_type": "stream",
     "text": [
      "Finalizado el modelo Presion_CLIENTE_1...\n",
      "Presion_CLIENTE_1\n"
     ]
    },
    {
     "name": "stderr",
     "output_type": "stream",
     "text": [
      "23:29:50 - cmdstanpy - INFO - Chain [1] start processing\n",
      "23:30:25 - cmdstanpy - INFO - Chain [1] done processing\n"
     ]
    },
    {
     "name": "stdout",
     "output_type": "stream",
     "text": [
      "Finalizado el modelo Presion_CLIENTE_2...\n",
      "Presion_CLIENTE_2\n"
     ]
    },
    {
     "name": "stderr",
     "output_type": "stream",
     "text": [
      "23:30:43 - cmdstanpy - INFO - Chain [1] start processing\n",
      "23:30:51 - cmdstanpy - INFO - Chain [1] done processing\n"
     ]
    },
    {
     "name": "stdout",
     "output_type": "stream",
     "text": [
      "Finalizado el modelo Presion_CLIENTE_3...\n",
      "Presion_CLIENTE_3\n"
     ]
    },
    {
     "name": "stderr",
     "output_type": "stream",
     "text": [
      "23:31:14 - cmdstanpy - INFO - Chain [1] start processing\n",
      "23:31:56 - cmdstanpy - INFO - Chain [1] done processing\n"
     ]
    },
    {
     "name": "stdout",
     "output_type": "stream",
     "text": [
      "Finalizado el modelo Presion_CLIENTE_4...\n",
      "Presion_CLIENTE_4\n"
     ]
    },
    {
     "name": "stderr",
     "output_type": "stream",
     "text": [
      "23:32:16 - cmdstanpy - INFO - Chain [1] start processing\n",
      "23:32:50 - cmdstanpy - INFO - Chain [1] done processing\n"
     ]
    },
    {
     "name": "stdout",
     "output_type": "stream",
     "text": [
      "Finalizado el modelo Presion_CLIENTE_5...\n",
      "Presion_CLIENTE_5\n"
     ]
    },
    {
     "name": "stderr",
     "output_type": "stream",
     "text": [
      "23:33:12 - cmdstanpy - INFO - Chain [1] start processing\n",
      "23:33:39 - cmdstanpy - INFO - Chain [1] done processing\n"
     ]
    },
    {
     "name": "stdout",
     "output_type": "stream",
     "text": [
      "Finalizado el modelo Presion_CLIENTE_6...\n",
      "Presion_CLIENTE_6\n"
     ]
    },
    {
     "name": "stderr",
     "output_type": "stream",
     "text": [
      "23:33:51 - cmdstanpy - INFO - Chain [1] start processing\n",
      "23:33:59 - cmdstanpy - INFO - Chain [1] done processing\n"
     ]
    },
    {
     "name": "stdout",
     "output_type": "stream",
     "text": [
      "Finalizado el modelo Presion_CLIENTE_7...\n",
      "Presion_CLIENTE_7\n"
     ]
    },
    {
     "name": "stderr",
     "output_type": "stream",
     "text": [
      "23:34:23 - cmdstanpy - INFO - Chain [1] start processing\n",
      "23:34:44 - cmdstanpy - INFO - Chain [1] done processing\n"
     ]
    },
    {
     "name": "stdout",
     "output_type": "stream",
     "text": [
      "Finalizado el modelo Presion_CLIENTE_8...\n",
      "Presion_CLIENTE_8\n"
     ]
    },
    {
     "name": "stderr",
     "output_type": "stream",
     "text": [
      "23:34:55 - cmdstanpy - INFO - Chain [1] start processing\n",
      "23:35:39 - cmdstanpy - INFO - Chain [1] done processing\n"
     ]
    },
    {
     "name": "stdout",
     "output_type": "stream",
     "text": [
      "Finalizado el modelo Presion_CLIENTE_9...\n",
      "Presion_CLIENTE_9\n"
     ]
    },
    {
     "name": "stderr",
     "output_type": "stream",
     "text": [
      "23:35:52 - cmdstanpy - INFO - Chain [1] start processing\n",
      "23:36:09 - cmdstanpy - INFO - Chain [1] done processing\n"
     ]
    },
    {
     "name": "stdout",
     "output_type": "stream",
     "text": [
      "Finalizado el modelo Presion_CLIENTE_10...\n",
      "Presion_CLIENTE_10\n"
     ]
    },
    {
     "name": "stderr",
     "output_type": "stream",
     "text": [
      "23:36:24 - cmdstanpy - INFO - Chain [1] start processing\n",
      "23:36:35 - cmdstanpy - INFO - Chain [1] done processing\n"
     ]
    },
    {
     "name": "stdout",
     "output_type": "stream",
     "text": [
      "Finalizado el modelo Presion_CLIENTE_11...\n",
      "Presion_CLIENTE_11\n"
     ]
    },
    {
     "name": "stderr",
     "output_type": "stream",
     "text": [
      "23:36:51 - cmdstanpy - INFO - Chain [1] start processing\n",
      "23:37:04 - cmdstanpy - INFO - Chain [1] done processing\n"
     ]
    },
    {
     "name": "stdout",
     "output_type": "stream",
     "text": [
      "Finalizado el modelo Presion_CLIENTE_12...\n",
      "Presion_CLIENTE_12\n"
     ]
    },
    {
     "name": "stderr",
     "output_type": "stream",
     "text": [
      "23:37:15 - cmdstanpy - INFO - Chain [1] start processing\n",
      "23:37:19 - cmdstanpy - INFO - Chain [1] done processing\n"
     ]
    },
    {
     "name": "stdout",
     "output_type": "stream",
     "text": [
      "Finalizado el modelo Presion_CLIENTE_13...\n",
      "Presion_CLIENTE_13\n"
     ]
    },
    {
     "name": "stderr",
     "output_type": "stream",
     "text": [
      "23:37:36 - cmdstanpy - INFO - Chain [1] start processing\n",
      "23:38:48 - cmdstanpy - INFO - Chain [1] done processing\n"
     ]
    },
    {
     "name": "stdout",
     "output_type": "stream",
     "text": [
      "Finalizado el modelo Presion_CLIENTE_14...\n",
      "Presion_CLIENTE_14\n"
     ]
    },
    {
     "name": "stderr",
     "output_type": "stream",
     "text": [
      "23:39:07 - cmdstanpy - INFO - Chain [1] start processing\n",
      "23:39:31 - cmdstanpy - INFO - Chain [1] done processing\n"
     ]
    },
    {
     "name": "stdout",
     "output_type": "stream",
     "text": [
      "Finalizado el modelo Presion_CLIENTE_16...\n",
      "Presion_CLIENTE_16\n"
     ]
    },
    {
     "name": "stderr",
     "output_type": "stream",
     "text": [
      "23:39:43 - cmdstanpy - INFO - Chain [1] start processing\n",
      "23:41:03 - cmdstanpy - INFO - Chain [1] done processing\n"
     ]
    },
    {
     "name": "stdout",
     "output_type": "stream",
     "text": [
      "Finalizado el modelo Presion_CLIENTE_17...\n",
      "Presion_CLIENTE_17\n"
     ]
    },
    {
     "name": "stderr",
     "output_type": "stream",
     "text": [
      "23:41:21 - cmdstanpy - INFO - Chain [1] start processing\n",
      "23:42:39 - cmdstanpy - INFO - Chain [1] done processing\n"
     ]
    },
    {
     "name": "stdout",
     "output_type": "stream",
     "text": [
      "Finalizado el modelo Presion_CLIENTE_18...\n",
      "Presion_CLIENTE_18\n"
     ]
    },
    {
     "name": "stderr",
     "output_type": "stream",
     "text": [
      "23:42:53 - cmdstanpy - INFO - Chain [1] start processing\n",
      "23:43:28 - cmdstanpy - INFO - Chain [1] done processing\n"
     ]
    },
    {
     "name": "stdout",
     "output_type": "stream",
     "text": [
      "Finalizado el modelo Presion_CLIENTE_19...\n",
      "Presion_CLIENTE_19\n"
     ]
    },
    {
     "name": "stderr",
     "output_type": "stream",
     "text": [
      "23:43:48 - cmdstanpy - INFO - Chain [1] start processing\n",
      "23:44:05 - cmdstanpy - INFO - Chain [1] done processing\n"
     ]
    },
    {
     "name": "stdout",
     "output_type": "stream",
     "text": [
      "Finalizado el modelo Presion_CLIENTE_20...\n",
      "Presion_CLIENTE_20\n"
     ]
    },
    {
     "name": "stderr",
     "output_type": "stream",
     "text": [
      "23:44:24 - cmdstanpy - INFO - Chain [1] start processing\n",
      "23:44:32 - cmdstanpy - INFO - Chain [1] done processing\n"
     ]
    },
    {
     "name": "stdout",
     "output_type": "stream",
     "text": [
      "Finalizado el modelo Temperatura_CLIENTE_1...\n",
      "Temperatura_CLIENTE_1\n"
     ]
    },
    {
     "name": "stderr",
     "output_type": "stream",
     "text": [
      "23:44:47 - cmdstanpy - INFO - Chain [1] start processing\n",
      "23:45:06 - cmdstanpy - INFO - Chain [1] done processing\n"
     ]
    },
    {
     "name": "stdout",
     "output_type": "stream",
     "text": [
      "Finalizado el modelo Temperatura_CLIENTE_2...\n",
      "Temperatura_CLIENTE_2\n"
     ]
    },
    {
     "name": "stderr",
     "output_type": "stream",
     "text": [
      "23:45:17 - cmdstanpy - INFO - Chain [1] start processing\n",
      "23:45:54 - cmdstanpy - INFO - Chain [1] done processing\n"
     ]
    },
    {
     "name": "stdout",
     "output_type": "stream",
     "text": [
      "Finalizado el modelo Temperatura_CLIENTE_3...\n",
      "Temperatura_CLIENTE_3\n"
     ]
    },
    {
     "name": "stderr",
     "output_type": "stream",
     "text": [
      "23:46:13 - cmdstanpy - INFO - Chain [1] start processing\n",
      "23:46:36 - cmdstanpy - INFO - Chain [1] done processing\n"
     ]
    },
    {
     "name": "stdout",
     "output_type": "stream",
     "text": [
      "Finalizado el modelo Temperatura_CLIENTE_4...\n",
      "Temperatura_CLIENTE_4\n"
     ]
    },
    {
     "name": "stderr",
     "output_type": "stream",
     "text": [
      "23:47:01 - cmdstanpy - INFO - Chain [1] start processing\n",
      "23:47:15 - cmdstanpy - INFO - Chain [1] done processing\n"
     ]
    },
    {
     "name": "stdout",
     "output_type": "stream",
     "text": [
      "Finalizado el modelo Temperatura_CLIENTE_5...\n",
      "Temperatura_CLIENTE_5\n"
     ]
    },
    {
     "name": "stderr",
     "output_type": "stream",
     "text": [
      "23:47:36 - cmdstanpy - INFO - Chain [1] start processing\n",
      "23:47:51 - cmdstanpy - INFO - Chain [1] done processing\n"
     ]
    },
    {
     "name": "stdout",
     "output_type": "stream",
     "text": [
      "Finalizado el modelo Temperatura_CLIENTE_6...\n",
      "Temperatura_CLIENTE_6\n"
     ]
    },
    {
     "name": "stderr",
     "output_type": "stream",
     "text": [
      "23:48:08 - cmdstanpy - INFO - Chain [1] start processing\n",
      "23:48:17 - cmdstanpy - INFO - Chain [1] done processing\n"
     ]
    },
    {
     "name": "stdout",
     "output_type": "stream",
     "text": [
      "Finalizado el modelo Temperatura_CLIENTE_7...\n",
      "Temperatura_CLIENTE_7\n"
     ]
    },
    {
     "name": "stderr",
     "output_type": "stream",
     "text": [
      "23:48:36 - cmdstanpy - INFO - Chain [1] start processing\n",
      "23:48:47 - cmdstanpy - INFO - Chain [1] done processing\n"
     ]
    },
    {
     "name": "stdout",
     "output_type": "stream",
     "text": [
      "Finalizado el modelo Temperatura_CLIENTE_8...\n",
      "Temperatura_CLIENTE_8\n"
     ]
    },
    {
     "name": "stderr",
     "output_type": "stream",
     "text": [
      "23:49:05 - cmdstanpy - INFO - Chain [1] start processing\n",
      "23:49:38 - cmdstanpy - INFO - Chain [1] done processing\n"
     ]
    },
    {
     "name": "stdout",
     "output_type": "stream",
     "text": [
      "Finalizado el modelo Temperatura_CLIENTE_9...\n",
      "Temperatura_CLIENTE_9\n"
     ]
    },
    {
     "name": "stderr",
     "output_type": "stream",
     "text": [
      "23:49:57 - cmdstanpy - INFO - Chain [1] start processing\n",
      "23:50:20 - cmdstanpy - INFO - Chain [1] done processing\n"
     ]
    },
    {
     "name": "stdout",
     "output_type": "stream",
     "text": [
      "Finalizado el modelo Temperatura_CLIENTE_10...\n",
      "Temperatura_CLIENTE_10\n"
     ]
    },
    {
     "name": "stderr",
     "output_type": "stream",
     "text": [
      "23:50:33 - cmdstanpy - INFO - Chain [1] start processing\n",
      "23:50:45 - cmdstanpy - INFO - Chain [1] done processing\n"
     ]
    },
    {
     "name": "stdout",
     "output_type": "stream",
     "text": [
      "Finalizado el modelo Temperatura_CLIENTE_11...\n",
      "Temperatura_CLIENTE_11\n"
     ]
    },
    {
     "name": "stderr",
     "output_type": "stream",
     "text": [
      "23:51:06 - cmdstanpy - INFO - Chain [1] start processing\n",
      "23:51:20 - cmdstanpy - INFO - Chain [1] done processing\n"
     ]
    },
    {
     "name": "stdout",
     "output_type": "stream",
     "text": [
      "Finalizado el modelo Temperatura_CLIENTE_12...\n",
      "Temperatura_CLIENTE_12\n"
     ]
    },
    {
     "name": "stderr",
     "output_type": "stream",
     "text": [
      "23:51:38 - cmdstanpy - INFO - Chain [1] start processing\n",
      "23:52:25 - cmdstanpy - INFO - Chain [1] done processing\n"
     ]
    },
    {
     "name": "stdout",
     "output_type": "stream",
     "text": [
      "Finalizado el modelo Temperatura_CLIENTE_13...\n",
      "Temperatura_CLIENTE_13\n"
     ]
    },
    {
     "name": "stderr",
     "output_type": "stream",
     "text": [
      "23:52:47 - cmdstanpy - INFO - Chain [1] start processing\n",
      "23:52:55 - cmdstanpy - INFO - Chain [1] done processing\n"
     ]
    },
    {
     "name": "stdout",
     "output_type": "stream",
     "text": [
      "Finalizado el modelo Temperatura_CLIENTE_14...\n",
      "Temperatura_CLIENTE_14\n"
     ]
    },
    {
     "name": "stderr",
     "output_type": "stream",
     "text": [
      "23:53:14 - cmdstanpy - INFO - Chain [1] start processing\n",
      "23:53:33 - cmdstanpy - INFO - Chain [1] done processing\n"
     ]
    },
    {
     "name": "stdout",
     "output_type": "stream",
     "text": [
      "Finalizado el modelo Temperatura_CLIENTE_15...\n",
      "Temperatura_CLIENTE_15\n"
     ]
    },
    {
     "name": "stderr",
     "output_type": "stream",
     "text": [
      "23:53:53 - cmdstanpy - INFO - Chain [1] start processing\n",
      "23:54:21 - cmdstanpy - INFO - Chain [1] done processing\n"
     ]
    },
    {
     "name": "stdout",
     "output_type": "stream",
     "text": [
      "Finalizado el modelo Temperatura_CLIENTE_16...\n",
      "Temperatura_CLIENTE_16\n"
     ]
    },
    {
     "name": "stderr",
     "output_type": "stream",
     "text": [
      "23:54:41 - cmdstanpy - INFO - Chain [1] start processing\n",
      "23:55:35 - cmdstanpy - INFO - Chain [1] done processing\n"
     ]
    },
    {
     "name": "stdout",
     "output_type": "stream",
     "text": [
      "Finalizado el modelo Temperatura_CLIENTE_17...\n",
      "Temperatura_CLIENTE_17\n"
     ]
    },
    {
     "name": "stderr",
     "output_type": "stream",
     "text": [
      "23:55:48 - cmdstanpy - INFO - Chain [1] start processing\n",
      "23:57:13 - cmdstanpy - INFO - Chain [1] done processing\n"
     ]
    },
    {
     "name": "stdout",
     "output_type": "stream",
     "text": [
      "Finalizado el modelo Temperatura_CLIENTE_18...\n",
      "Temperatura_CLIENTE_18\n"
     ]
    },
    {
     "name": "stderr",
     "output_type": "stream",
     "text": [
      "23:57:31 - cmdstanpy - INFO - Chain [1] start processing\n",
      "23:58:15 - cmdstanpy - INFO - Chain [1] done processing\n"
     ]
    },
    {
     "name": "stdout",
     "output_type": "stream",
     "text": [
      "Finalizado el modelo Temperatura_CLIENTE_19...\n",
      "Temperatura_CLIENTE_19\n"
     ]
    },
    {
     "name": "stderr",
     "output_type": "stream",
     "text": [
      "23:58:31 - cmdstanpy - INFO - Chain [1] start processing\n",
      "23:58:39 - cmdstanpy - INFO - Chain [1] done processing\n"
     ]
    },
    {
     "name": "stdout",
     "output_type": "stream",
     "text": [
      "Finalizado el modelo Temperatura_CLIENTE_20...\n",
      "Temperatura_CLIENTE_20\n"
     ]
    },
    {
     "name": "stderr",
     "output_type": "stream",
     "text": [
      "23:58:47 - cmdstanpy - INFO - Chain [1] start processing\n",
      "23:59:02 - cmdstanpy - INFO - Chain [1] done processing\n"
     ]
    },
    {
     "name": "stdout",
     "output_type": "stream",
     "text": [
      "Finalizado el modelo Volumen_CLIENTE_1...\n",
      "Volumen_CLIENTE_1\n"
     ]
    },
    {
     "name": "stderr",
     "output_type": "stream",
     "text": [
      "23:59:23 - cmdstanpy - INFO - Chain [1] start processing\n",
      "23:59:37 - cmdstanpy - INFO - Chain [1] done processing\n"
     ]
    },
    {
     "name": "stdout",
     "output_type": "stream",
     "text": [
      "Finalizado el modelo Volumen_CLIENTE_3...\n",
      "Volumen_CLIENTE_3\n"
     ]
    },
    {
     "name": "stderr",
     "output_type": "stream",
     "text": [
      "00:00:05 - cmdstanpy - INFO - Chain [1] start processing\n",
      "00:00:24 - cmdstanpy - INFO - Chain [1] done processing\n"
     ]
    },
    {
     "name": "stdout",
     "output_type": "stream",
     "text": [
      "Finalizado el modelo Volumen_CLIENTE_5...\n",
      "Volumen_CLIENTE_5\n"
     ]
    },
    {
     "name": "stderr",
     "output_type": "stream",
     "text": [
      "00:00:43 - cmdstanpy - INFO - Chain [1] start processing\n",
      "00:00:49 - cmdstanpy - INFO - Chain [1] done processing\n"
     ]
    },
    {
     "name": "stdout",
     "output_type": "stream",
     "text": [
      "Finalizado el modelo Volumen_CLIENTE_6...\n",
      "Volumen_CLIENTE_6\n"
     ]
    },
    {
     "name": "stderr",
     "output_type": "stream",
     "text": [
      "00:01:00 - cmdstanpy - INFO - Chain [1] start processing\n",
      "00:02:18 - cmdstanpy - INFO - Chain [1] done processing\n"
     ]
    },
    {
     "name": "stdout",
     "output_type": "stream",
     "text": [
      "Finalizado el modelo Volumen_CLIENTE_7...\n",
      "Volumen_CLIENTE_7\n"
     ]
    },
    {
     "name": "stderr",
     "output_type": "stream",
     "text": [
      "00:02:36 - cmdstanpy - INFO - Chain [1] start processing\n",
      "00:02:51 - cmdstanpy - INFO - Chain [1] done processing\n"
     ]
    },
    {
     "name": "stdout",
     "output_type": "stream",
     "text": [
      "Finalizado el modelo Volumen_CLIENTE_8...\n",
      "Volumen_CLIENTE_8\n"
     ]
    },
    {
     "name": "stderr",
     "output_type": "stream",
     "text": [
      "00:03:06 - cmdstanpy - INFO - Chain [1] start processing\n",
      "00:03:18 - cmdstanpy - INFO - Chain [1] done processing\n"
     ]
    },
    {
     "name": "stdout",
     "output_type": "stream",
     "text": [
      "Finalizado el modelo Volumen_CLIENTE_11...\n",
      "Volumen_CLIENTE_11\n"
     ]
    },
    {
     "name": "stderr",
     "output_type": "stream",
     "text": [
      "00:03:29 - cmdstanpy - INFO - Chain [1] start processing\n",
      "00:04:47 - cmdstanpy - INFO - Chain [1] done processing\n"
     ]
    },
    {
     "name": "stdout",
     "output_type": "stream",
     "text": [
      "Finalizado el modelo Volumen_CLIENTE_12...\n",
      "Volumen_CLIENTE_12\n"
     ]
    },
    {
     "name": "stderr",
     "output_type": "stream",
     "text": [
      "00:05:12 - cmdstanpy - INFO - Chain [1] start processing\n",
      "00:05:25 - cmdstanpy - INFO - Chain [1] done processing\n"
     ]
    },
    {
     "name": "stdout",
     "output_type": "stream",
     "text": [
      "Finalizado el modelo Volumen_CLIENTE_14...\n",
      "Volumen_CLIENTE_14\n"
     ]
    },
    {
     "name": "stderr",
     "output_type": "stream",
     "text": [
      "00:05:44 - cmdstanpy - INFO - Chain [1] start processing\n",
      "00:05:59 - cmdstanpy - INFO - Chain [1] done processing\n"
     ]
    },
    {
     "name": "stdout",
     "output_type": "stream",
     "text": [
      "Finalizado el modelo Volumen_CLIENTE_16...\n",
      "Volumen_CLIENTE_16\n"
     ]
    },
    {
     "name": "stderr",
     "output_type": "stream",
     "text": [
      "00:06:21 - cmdstanpy - INFO - Chain [1] start processing\n",
      "00:06:56 - cmdstanpy - INFO - Chain [1] done processing\n"
     ]
    },
    {
     "name": "stdout",
     "output_type": "stream",
     "text": [
      "Finalizado el modelo Volumen_CLIENTE_17...\n",
      "Volumen_CLIENTE_17\n"
     ]
    },
    {
     "name": "stderr",
     "output_type": "stream",
     "text": [
      "00:07:05 - cmdstanpy - INFO - Chain [1] start processing\n",
      "00:07:08 - cmdstanpy - INFO - Chain [1] done processing\n"
     ]
    },
    {
     "name": "stdout",
     "output_type": "stream",
     "text": [
      "Finalizado el modelo Volumen_CLIENTE_20...\n",
      "Volumen_CLIENTE_20\n"
     ]
    }
   ],
   "source": [
    "for metrica,clientes in PROPHET_dataSet.items():\n",
    "    for cliente in clientes:\n",
    "        if metrica == 'Presion':\n",
    "            serie = df_completo[df_completo['Cliente']==cliente][metrica]\n",
    "            modelo, pred, residuos = entrenar_prophet(serie,pruebaPres_Estacional[cliente]['periodos_detectados'])\n",
    "            umbral = 2.5 * np.std(residuos)\n",
    "            anomalias = np.abs(residuos) > umbral\n",
    "            nombreModelo = metrica+'_'+cliente.replace(' ','_')\n",
    "            joblib.dump(modelo, nombreModelo+'.pkl')\n",
    "            print(f'Finalizado el modelo {nombreModelo}...')\n",
    "            mascara = df_completo['Cliente'] == cliente\n",
    "            idx_a_actualizar = df_completo[mascara].index.intersection(anomalias.index)\n",
    "            df_completo.loc[(df_completo['Cliente'] == cliente) & (df_completo.index.isin(idx_a_actualizar)), 'AnomaliaPresion'] = anomalias.loc[idx_a_actualizar]\n",
    "        elif metrica == 'Temperatura':\n",
    "            serie = df_completo[df_completo['Cliente']==cliente][metrica]\n",
    "            modelo, pred, residuos = entrenar_prophet(serie,pruebaTemp_Estacional[cliente]['periodos_detectados'])\n",
    "            umbral = 2.5 * np.std(residuos)\n",
    "            anomalias = np.abs(residuos) > umbral\n",
    "            nombreModelo = metrica+'_'+cliente.replace(' ','_')\n",
    "            joblib.dump(modelo, nombreModelo+'.pkl')\n",
    "            print(f'Finalizado el modelo {nombreModelo}...')\n",
    "            mascara = df_completo['Cliente'] == cliente\n",
    "            idx_a_actualizar = df_completo[mascara].index.intersection(anomalias.index)\n",
    "            df_completo.loc[(df_completo['Cliente'] == cliente) & (df_completo.index.isin(idx_a_actualizar)), 'AnomaliaTemperatura'] = anomalias.loc[idx_a_actualizar]\n",
    "        else:\n",
    "            serie = df_completo[df_completo['Cliente']==cliente][metrica]\n",
    "            modelo, pred, residuos = entrenar_prophet(serie,pruebaVol_Estacional[cliente]['periodos_detectados'])\n",
    "            umbral = 2.5 * np.std(residuos)\n",
    "            anomalias = np.abs(residuos) > umbral\n",
    "            nombreModelo = metrica+'_'+cliente.replace(' ','_')\n",
    "            joblib.dump(modelo, nombreModelo+'.pkl')\n",
    "            print(f'Finalizado el modelo {nombreModelo}...')\n",
    "            mascara = df_completo['Cliente'] == cliente\n",
    "            idx_a_actualizar = df_completo[mascara].index.intersection(anomalias.index)\n",
    "            df_completo.loc[(df_completo['Cliente'] == cliente) & (df_completo.index.isin(idx_a_actualizar)), 'AnomaliaVolumen'] = anomalias.loc[idx_a_actualizar]\n",
    "        print(nombreModelo)"
   ]
  },
  {
   "cell_type": "markdown",
   "id": "2992abac-e54d-4c20-9869-1628da7a1bcc",
   "metadata": {},
   "source": [
    "# Generacion de Datos con Anomalias"
   ]
  },
  {
   "cell_type": "code",
   "execution_count": 22,
   "id": "98e22700-422d-424a-9851-ae69c87846a5",
   "metadata": {},
   "outputs": [
    {
     "data": {
      "text/html": [
       "<div>\n",
       "<style scoped>\n",
       "    .dataframe tbody tr th:only-of-type {\n",
       "        vertical-align: middle;\n",
       "    }\n",
       "\n",
       "    .dataframe tbody tr th {\n",
       "        vertical-align: top;\n",
       "    }\n",
       "\n",
       "    .dataframe thead th {\n",
       "        text-align: right;\n",
       "    }\n",
       "</style>\n",
       "<table border=\"1\" class=\"dataframe\">\n",
       "  <thead>\n",
       "    <tr style=\"text-align: right;\">\n",
       "      <th></th>\n",
       "      <th>Cliente</th>\n",
       "      <th>Presion</th>\n",
       "      <th>Temperatura</th>\n",
       "      <th>Volumen</th>\n",
       "      <th>AnomaliaPresion</th>\n",
       "      <th>AnomaliaTemperatura</th>\n",
       "      <th>AnomaliaVolumen</th>\n",
       "    </tr>\n",
       "    <tr>\n",
       "      <th>Fecha</th>\n",
       "      <th></th>\n",
       "      <th></th>\n",
       "      <th></th>\n",
       "      <th></th>\n",
       "      <th></th>\n",
       "      <th></th>\n",
       "      <th></th>\n",
       "    </tr>\n",
       "  </thead>\n",
       "  <tbody>\n",
       "    <tr>\n",
       "      <th>2019-01-14</th>\n",
       "      <td>CLIENTE 1</td>\n",
       "      <td>17.732563</td>\n",
       "      <td>28.209354</td>\n",
       "      <td>20.969751</td>\n",
       "      <td>False</td>\n",
       "      <td>False</td>\n",
       "      <td>False</td>\n",
       "    </tr>\n",
       "    <tr>\n",
       "      <th>2019-01-14</th>\n",
       "      <td>CLIENTE 10</td>\n",
       "      <td>17.534622</td>\n",
       "      <td>25.958163</td>\n",
       "      <td>0.000000</td>\n",
       "      <td>False</td>\n",
       "      <td>False</td>\n",
       "      <td>False</td>\n",
       "    </tr>\n",
       "    <tr>\n",
       "      <th>2019-01-14</th>\n",
       "      <td>CLIENTE 11</td>\n",
       "      <td>3.625672</td>\n",
       "      <td>27.554214</td>\n",
       "      <td>88.443881</td>\n",
       "      <td>False</td>\n",
       "      <td>False</td>\n",
       "      <td>False</td>\n",
       "    </tr>\n",
       "    <tr>\n",
       "      <th>2019-01-14</th>\n",
       "      <td>CLIENTE 12</td>\n",
       "      <td>17.286238</td>\n",
       "      <td>32.363057</td>\n",
       "      <td>110.898742</td>\n",
       "      <td>False</td>\n",
       "      <td>False</td>\n",
       "      <td>True</td>\n",
       "    </tr>\n",
       "    <tr>\n",
       "      <th>2019-01-14</th>\n",
       "      <td>CLIENTE 13</td>\n",
       "      <td>17.528430</td>\n",
       "      <td>25.212319</td>\n",
       "      <td>0.000000</td>\n",
       "      <td>False</td>\n",
       "      <td>False</td>\n",
       "      <td>False</td>\n",
       "    </tr>\n",
       "  </tbody>\n",
       "</table>\n",
       "</div>"
      ],
      "text/plain": [
       "               Cliente    Presion  Temperatura     Volumen  AnomaliaPresion  \\\n",
       "Fecha                                                                         \n",
       "2019-01-14   CLIENTE 1  17.732563    28.209354   20.969751            False   \n",
       "2019-01-14  CLIENTE 10  17.534622    25.958163    0.000000            False   \n",
       "2019-01-14  CLIENTE 11   3.625672    27.554214   88.443881            False   \n",
       "2019-01-14  CLIENTE 12  17.286238    32.363057  110.898742            False   \n",
       "2019-01-14  CLIENTE 13  17.528430    25.212319    0.000000            False   \n",
       "\n",
       "            AnomaliaTemperatura  AnomaliaVolumen  \n",
       "Fecha                                             \n",
       "2019-01-14                False            False  \n",
       "2019-01-14                False            False  \n",
       "2019-01-14                False            False  \n",
       "2019-01-14                False             True  \n",
       "2019-01-14                False            False  "
      ]
     },
     "execution_count": 22,
     "metadata": {},
     "output_type": "execute_result"
    }
   ],
   "source": [
    "df_completo.head()"
   ]
  },
  {
   "cell_type": "code",
   "execution_count": 38,
   "id": "bfebf7b9-9bbd-4d78-8b86-73253e5097e8",
   "metadata": {},
   "outputs": [],
   "source": [
    "df_completo.reset_index(inplace=True)\n",
    "df_completo.to_csv(\"anomaliasDetectadas.csv\", index=False)"
   ]
  },
  {
   "cell_type": "code",
   "execution_count": 41,
   "id": "e42e1c9e-6b12-4cc9-a707-9dce1cad1b36",
   "metadata": {},
   "outputs": [
    {
     "data": {
      "text/html": [
       "<div>\n",
       "<style scoped>\n",
       "    .dataframe tbody tr th:only-of-type {\n",
       "        vertical-align: middle;\n",
       "    }\n",
       "\n",
       "    .dataframe tbody tr th {\n",
       "        vertical-align: top;\n",
       "    }\n",
       "\n",
       "    .dataframe thead th {\n",
       "        text-align: right;\n",
       "    }\n",
       "</style>\n",
       "<table border=\"1\" class=\"dataframe\">\n",
       "  <thead>\n",
       "    <tr style=\"text-align: right;\">\n",
       "      <th></th>\n",
       "      <th>Fecha</th>\n",
       "      <th>Cliente</th>\n",
       "      <th>Presion</th>\n",
       "      <th>Temperatura</th>\n",
       "      <th>Volumen</th>\n",
       "      <th>AnomaliaPresion</th>\n",
       "      <th>AnomaliaTemperatura</th>\n",
       "      <th>AnomaliaVolumen</th>\n",
       "    </tr>\n",
       "  </thead>\n",
       "  <tbody>\n",
       "    <tr>\n",
       "      <th>1162</th>\n",
       "      <td>2019-01-16 10:00:00</td>\n",
       "      <td>CLIENTE 11</td>\n",
       "      <td>3.428514</td>\n",
       "      <td>27.864100</td>\n",
       "      <td>117.115950</td>\n",
       "      <td>True</td>\n",
       "      <td>False</td>\n",
       "      <td>False</td>\n",
       "    </tr>\n",
       "    <tr>\n",
       "      <th>3800</th>\n",
       "      <td>2019-01-21 22:00:00</td>\n",
       "      <td>CLIENTE 11</td>\n",
       "      <td>3.706430</td>\n",
       "      <td>28.591751</td>\n",
       "      <td>82.719467</td>\n",
       "      <td>True</td>\n",
       "      <td>False</td>\n",
       "      <td>False</td>\n",
       "    </tr>\n",
       "    <tr>\n",
       "      <th>4778</th>\n",
       "      <td>2019-01-23 23:00:00</td>\n",
       "      <td>CLIENTE 11</td>\n",
       "      <td>3.704674</td>\n",
       "      <td>27.661280</td>\n",
       "      <td>103.854875</td>\n",
       "      <td>True</td>\n",
       "      <td>False</td>\n",
       "      <td>False</td>\n",
       "    </tr>\n",
       "    <tr>\n",
       "      <th>5278</th>\n",
       "      <td>2019-01-25 00:00:00</td>\n",
       "      <td>CLIENTE 11</td>\n",
       "      <td>3.691875</td>\n",
       "      <td>27.951518</td>\n",
       "      <td>96.377492</td>\n",
       "      <td>True</td>\n",
       "      <td>False</td>\n",
       "      <td>False</td>\n",
       "    </tr>\n",
       "    <tr>\n",
       "      <th>8620</th>\n",
       "      <td>2019-02-01 00:00:00</td>\n",
       "      <td>CLIENTE 11</td>\n",
       "      <td>3.712524</td>\n",
       "      <td>27.496776</td>\n",
       "      <td>85.279061</td>\n",
       "      <td>True</td>\n",
       "      <td>True</td>\n",
       "      <td>False</td>\n",
       "    </tr>\n",
       "    <tr>\n",
       "      <th>...</th>\n",
       "      <td>...</td>\n",
       "      <td>...</td>\n",
       "      <td>...</td>\n",
       "      <td>...</td>\n",
       "      <td>...</td>\n",
       "      <td>...</td>\n",
       "      <td>...</td>\n",
       "      <td>...</td>\n",
       "    </tr>\n",
       "    <tr>\n",
       "      <th>845388</th>\n",
       "      <td>2023-12-26 09:00:00</td>\n",
       "      <td>CLIENTE 11</td>\n",
       "      <td>3.352474</td>\n",
       "      <td>29.633646</td>\n",
       "      <td>152.698424</td>\n",
       "      <td>True</td>\n",
       "      <td>False</td>\n",
       "      <td>False</td>\n",
       "    </tr>\n",
       "    <tr>\n",
       "      <th>846283</th>\n",
       "      <td>2023-12-28 10:00:00</td>\n",
       "      <td>CLIENTE 11</td>\n",
       "      <td>3.751676</td>\n",
       "      <td>29.046682</td>\n",
       "      <td>152.026220</td>\n",
       "      <td>True</td>\n",
       "      <td>False</td>\n",
       "      <td>False</td>\n",
       "    </tr>\n",
       "    <tr>\n",
       "      <th>846896</th>\n",
       "      <td>2023-12-29 19:00:00</td>\n",
       "      <td>CLIENTE 11</td>\n",
       "      <td>3.444078</td>\n",
       "      <td>29.323007</td>\n",
       "      <td>122.324258</td>\n",
       "      <td>True</td>\n",
       "      <td>False</td>\n",
       "      <td>False</td>\n",
       "    </tr>\n",
       "    <tr>\n",
       "      <th>847116</th>\n",
       "      <td>2023-12-30 06:00:00</td>\n",
       "      <td>CLIENTE 11</td>\n",
       "      <td>3.782155</td>\n",
       "      <td>29.201949</td>\n",
       "      <td>128.474630</td>\n",
       "      <td>True</td>\n",
       "      <td>False</td>\n",
       "      <td>False</td>\n",
       "    </tr>\n",
       "    <tr>\n",
       "      <th>847728</th>\n",
       "      <td>2023-12-31 13:00:00</td>\n",
       "      <td>CLIENTE 11</td>\n",
       "      <td>3.393920</td>\n",
       "      <td>29.392670</td>\n",
       "      <td>142.029871</td>\n",
       "      <td>True</td>\n",
       "      <td>False</td>\n",
       "      <td>False</td>\n",
       "    </tr>\n",
       "  </tbody>\n",
       "</table>\n",
       "<p>629 rows × 8 columns</p>\n",
       "</div>"
      ],
      "text/plain": [
       "                     Fecha     Cliente   Presion  Temperatura     Volumen  \\\n",
       "1162   2019-01-16 10:00:00  CLIENTE 11  3.428514    27.864100  117.115950   \n",
       "3800   2019-01-21 22:00:00  CLIENTE 11  3.706430    28.591751   82.719467   \n",
       "4778   2019-01-23 23:00:00  CLIENTE 11  3.704674    27.661280  103.854875   \n",
       "5278   2019-01-25 00:00:00  CLIENTE 11  3.691875    27.951518   96.377492   \n",
       "8620   2019-02-01 00:00:00  CLIENTE 11  3.712524    27.496776   85.279061   \n",
       "...                    ...         ...       ...          ...         ...   \n",
       "845388 2023-12-26 09:00:00  CLIENTE 11  3.352474    29.633646  152.698424   \n",
       "846283 2023-12-28 10:00:00  CLIENTE 11  3.751676    29.046682  152.026220   \n",
       "846896 2023-12-29 19:00:00  CLIENTE 11  3.444078    29.323007  122.324258   \n",
       "847116 2023-12-30 06:00:00  CLIENTE 11  3.782155    29.201949  128.474630   \n",
       "847728 2023-12-31 13:00:00  CLIENTE 11  3.393920    29.392670  142.029871   \n",
       "\n",
       "        AnomaliaPresion  AnomaliaTemperatura  AnomaliaVolumen  \n",
       "1162               True                False            False  \n",
       "3800               True                False            False  \n",
       "4778               True                False            False  \n",
       "5278               True                False            False  \n",
       "8620               True                 True            False  \n",
       "...                 ...                  ...              ...  \n",
       "845388             True                False            False  \n",
       "846283             True                False            False  \n",
       "846896             True                False            False  \n",
       "847116             True                False            False  \n",
       "847728             True                False            False  \n",
       "\n",
       "[629 rows x 8 columns]"
      ]
     },
     "execution_count": 41,
     "metadata": {},
     "output_type": "execute_result"
    }
   ],
   "source": [
    "df_completo[df_completo['Cliente']=='CLIENTE 11'].groupby('AnomaliaPresion').size()\n",
    "df_completo[(df_completo['Cliente']=='CLIENTE 11') & (df_completo['AnomaliaPresion']==True)]"
   ]
  },
  {
   "cell_type": "code",
   "execution_count": null,
   "id": "ecb0c42e-f092-42ba-8041-74c9ad5b30dc",
   "metadata": {},
   "outputs": [],
   "source": []
  }
 ],
 "metadata": {
  "kernelspec": {
   "display_name": "Python [conda env:base] *",
   "language": "python",
   "name": "conda-base-py"
  },
  "language_info": {
   "codemirror_mode": {
    "name": "ipython",
    "version": 3
   },
   "file_extension": ".py",
   "mimetype": "text/x-python",
   "name": "python",
   "nbconvert_exporter": "python",
   "pygments_lexer": "ipython3",
   "version": "3.11.5"
  }
 },
 "nbformat": 4,
 "nbformat_minor": 5
}
